{
 "cells": [
  {
   "cell_type": "markdown",
   "metadata": {},
   "source": [
    "**Train set**\n",
    "\n",
    "The train set is meant to be for system development and includes **~9.5k samples unequally distributed among 41 categories**. The **minimum number of audio samples per category in the train set is 94, and the maximum 300**. The duration of the audio **samples ranges from 300ms to 30s** due to the diversity of the sound categories and the preferences of Freesound users when recording sounds.\n",
    "\n",
    "The train set is composed of **~3.7k manually-verified annotations and ~5.8k non-verified annotations**. **The quality of the non-verified annotations has been roughly estimated to be at least 65-70% in each sound category**. A flag for each annotation is provided which indicates whether or not that annotation has been manually verified. Participants can use this information during the development of their systems\n",
    "\n",
    "Maximum number of points for samples: 1323000"
   ]
  },
  {
   "cell_type": "code",
   "execution_count": 1,
   "metadata": {
    "collapsed": true
   },
   "outputs": [],
   "source": [
    "#lib to work with music and audios https://librosa.github.io/librosa/\n",
    "import librosa "
   ]
  },
  {
   "cell_type": "markdown",
   "metadata": {},
   "source": [
    "<b>Loading data</b>"
   ]
  },
  {
   "cell_type": "code",
   "execution_count": 2,
   "metadata": {
    "collapsed": true
   },
   "outputs": [],
   "source": [
    "import numpy as np\n",
    "import matplotlib.pyplot as plt\n",
    "import pandas as pd\n",
    "import constants\n",
    "%matplotlib inline\n",
    "\n",
    "'''\n",
    "Piece of code copied from https://www.kaggle.com/fizzbuzz/beginner-s-guide-to-audio-data\n",
    "'''\n",
    "import IPython.display as ipd  # To play sound in the notebook\n",
    "np.random.seed(1001)\n",
    "import os\n",
    "import shutil\n",
    "import IPython\n",
    "import matplotlib\n",
    "import seaborn as sns\n",
    "from scipy.io import wavfile\n",
    "#from tqdm import tqdm_notebook\n",
    "#from sklearn.cross_validation import StratifiedKFold\n",
    "\n",
    "#matplotlib.style.use('ggplot') - I prefer call the style as:\n",
    "plt.style.use(['seaborn-white','ggplot'])"
   ]
  },
  {
   "cell_type": "code",
   "execution_count": 3,
   "metadata": {
    "collapsed": true
   },
   "outputs": [],
   "source": [
    "dataset = pd.read_csv(constants.basepath+\"database/train.csv\",header=0,names=['fname','label','verified'])"
   ]
  },
  {
   "cell_type": "markdown",
   "metadata": {},
   "source": [
    "<b>Some vizualiations of a sample</b>"
   ]
  },
  {
   "cell_type": "code",
   "execution_count": 5,
   "metadata": {
    "collapsed": true
   },
   "outputs": [],
   "source": [
    "fnamesample1 = constants.basepath+\"database/audio_train/00ad7068.wav\"\n",
    "rate1, data1 = wavfile.read(fnamesample1)\n",
    "\n",
    "fnamesample2 = constants.basepath+\"database/audio_train/00c9e799.wav\"\n",
    "rate2, data2 = wavfile.read(fnamesample2)"
   ]
  },
  {
   "cell_type": "code",
   "execution_count": null,
   "metadata": {
    "collapsed": true
   },
   "outputs": [],
   "source": [
    "print(\"Sample 1: rate = \"+str(rate1)+\" data length = \"+str(len(data1)))\n",
    "print(\"Sample 2: rate = \"+str(rate2)+\" data length = \"+str(len(data2)))"
   ]
  },
  {
   "cell_type": "markdown",
   "metadata": {},
   "source": [
    "Plotting"
   ]
  },
  {
   "cell_type": "code",
   "execution_count": null,
   "metadata": {
    "collapsed": true
   },
   "outputs": [],
   "source": [
    "data2plot1 = pd.DataFrame(data1,columns = ['values'])\n",
    "data2plot1.plot()\n",
    "plt.show()"
   ]
  },
  {
   "cell_type": "code",
   "execution_count": null,
   "metadata": {
    "collapsed": true
   },
   "outputs": [],
   "source": [
    "data2plot2 = pd.DataFrame(data2,columns = ['values'])\n",
    "data2plot2.plot()\n",
    "plt.show()"
   ]
  },
  {
   "cell_type": "markdown",
   "metadata": {},
   "source": [
    "Hearing"
   ]
  },
  {
   "cell_type": "code",
   "execution_count": null,
   "metadata": {
    "collapsed": true
   },
   "outputs": [],
   "source": [
    "ipd.Audio(fnamesample1)"
   ]
  },
  {
   "cell_type": "code",
   "execution_count": null,
   "metadata": {
    "collapsed": true
   },
   "outputs": [],
   "source": [
    "ipd.Audio(fnamesample2)"
   ]
  },
  {
   "cell_type": "markdown",
   "metadata": {},
   "source": [
    "<b>Loading all wav files</b>\n",
    "\n",
    "1)We are gonna use only checked data for the first training and validations steps.\n",
    "\n",
    "2)Using wavfile.read on each files' name.\n",
    "\n",
    "3)Because all files has the same rate, 44.1 kHz, only the data as an numpy array is gonna be kept. "
   ]
  },
  {
   "cell_type": "code",
   "execution_count": 4,
   "metadata": {
    "collapsed": true
   },
   "outputs": [],
   "source": [
    "checkedDataset = dataset.loc[dataset.verified == 1,[\"fname\",\"label\"]]"
   ]
  },
  {
   "cell_type": "code",
   "execution_count": 5,
   "metadata": {
    "collapsed": true
   },
   "outputs": [],
   "source": [
    "basepathWAVfiles = constants.basepath+\"database/audio_train/\""
   ]
  },
  {
   "cell_type": "code",
   "execution_count": 6,
   "metadata": {
    "collapsed": true
   },
   "outputs": [],
   "source": [
    "#paddedData = []\n",
    "originalData = []\n",
    "#normalData = []\n",
    "target = []\n",
    "maxLength = 1323000\n",
    "for sample in checkedDataset.values:\n",
    "    fname,label = sample\n",
    "    try:\n",
    "        _,data = wavfile.read(basepathWAVfiles+fname)\n",
    "        #paddedData.append(np.pad(data, (0,maxLength-len(data)), 'constant').astype(np.float))\n",
    "        originalData.append(data.astype(np.float))\n",
    "        #normalData.append(data/np.sum(data))\n",
    "        target.append(label)\n",
    "    except:\n",
    "        print(\"File \"+fname+' do not exist!')          "
   ]
  },
  {
   "cell_type": "markdown",
   "metadata": {},
   "source": [
    "<b>Training and validation sets</b>\n",
    "\n",
    "We are gonna use only checked data for the first training and validations steps by using cross-validation of 10-fold, each time training on 90% of the data and testing on 10%.\n",
    "\n",
    "Features in paddedData #dimension [3710 samples, 1323000 features]\n",
    "\n",
    "Labels in target"
   ]
  },
  {
   "cell_type": "markdown",
   "metadata": {},
   "source": [
    "# Sounds properties\n",
    "\n",
    "Source: https://www.nde-ed.org/EducationResources/HighSchool/Sound/components.htm\n",
    "\n",
    "Why are sounds different?\n",
    "\n",
    "The differences between sounds are caused by intensity, pitch, and tone.\n",
    "\n",
    "<b>Intensity</b>\n",
    "\n",
    "Sound is a wave and waves have amplitude, or height. Amplitude is a measure of energy. The more energy a wave has, the higher its amplitude. As amplitude increases, intensity also increases. Intensity is the amount of energy a sound has over an area. The same sound is more intense if you hear it in a smaller area. In general, we call sounds with a higher intensity louder. Intensity is measured in decibels.\n",
    "\n",
    "<b>Pitch</b>\n",
    "\n",
    "Pitch helps us distinguish between low and high sounds. Imagine that a singer sings the same note twice, one an octave above the other. \n",
    "\n",
    "Pitch depends on the frequency of a sound wave. Frequency is the number of wavelengths that fit into one unit of time. Frequencies are measured in hertz. One hertz is equal to one cycle of compression and rarefaction per second. High sounds have high frequencies and low sounds have low frequencies. \n",
    "\n",
    "<b>Tone & Harmonics</b>\n",
    "\n",
    "A violin sounds different than a flute playing the same pitch. This is because they have a different tone, or sound quality. When a source vibrates, it actually vibrates with many frequencies at the same time. Each of those frequencies produces a wave. Sound quality depends on the combination of different frequencies of sound waves.\n",
    "\n",
    "Imagine a guitar string tightly stretched. If we strum it, the energy from our finger is transferred to the string, causing it to vibrate. When the whole string vibrates, we hear the lowest pitch. This pitch is called the fundamental. Remember, the fundamental is really only one of many pitches that the string is producing. Parts of the string vibrating at frequencies higher than the fundamental are called overtones, while those vibrating in whole number multiples of the fundamental are called harmonics. A frequency of two times the fundamental will sound one octave higher and is called the second harmonic. A frequency four times the fundamental will sound two octaves higher and is called the fourth harmonic. Because the fundamental is one times itself, it is also called the first harmonic."
   ]
  },
  {
   "cell_type": "markdown",
   "metadata": {},
   "source": [
    "# Describing data in function of ..."
   ]
  },
  {
   "cell_type": "markdown",
   "metadata": {},
   "source": [
    "<b>Describing data in function of tone</b>"
   ]
  },
  {
   "cell_type": "code",
   "execution_count": 7,
   "metadata": {
    "collapsed": true
   },
   "outputs": [],
   "source": [
    "'''\n",
    "The Tonnetz is a pitch space defined by the network of relationships between\n",
    "musical pitches in just intonation. (source: http://www.nyu.edu/classes/bello/MIR_files/tonality.pdf)\n",
    "\n",
    "Package: https://librosa.github.io/librosa/generated/librosa.feature.tonnetz.html#librosa.feature.tonnetz\n",
    "'''\n",
    "\n",
    "tone=list(map(lambda x: librosa.feature.tonnetz(y=x, sr=44100, chroma=None), originalData))"
   ]
  },
  {
   "cell_type": "code",
   "execution_count": 73,
   "metadata": {
    "collapsed": true
   },
   "outputs": [],
   "source": [
    "#Could not execute the following line because it takes forever\n",
    "#tonePaddedData=list(map(lambda x: librosa.feature.tonnetz(y=x, sr=44100, chroma=None), paddedData))"
   ]
  },
  {
   "cell_type": "code",
   "execution_count": 67,
   "metadata": {
    "collapsed": true
   },
   "outputs": [],
   "source": [
    "sizes=[len(i[0]) for i in tone ]\n",
    "max2DTone = 2584"
   ]
  },
  {
   "cell_type": "code",
   "execution_count": 60,
   "metadata": {},
   "outputs": [
    {
     "data": {
      "image/png": "[encoded data removed]",
      "text/plain": [
       "<matplotlib.figure.Figure at 0x202b02a4550>"
      ]
     },
     "metadata": {},
     "output_type": "display_data"
    }
   ],
   "source": [
    "sizes = pd.DataFrame(sizes,columns=['size'])\n",
    "sizes.plot.hist(bins=20)\n",
    "plt.show()"
   ]
  },
  {
   "cell_type": "code",
   "execution_count": 53,
   "metadata": {
    "collapsed": true
   },
   "outputs": [],
   "source": [
    "import collections\n",
    "counter=collections.Counter(sizes)\n",
    "data2plot1 = pd.DataFrame.from_dict(counter, orient='index')\n",
    "data2plot1[\"size\"] = data2plot1.index"
   ]
  },
  {
   "cell_type": "code",
   "execution_count": 54,
   "metadata": {},
   "outputs": [
    {
     "data": {
      "image/png": "[encoded data removed]",
      "text/plain": [
       "<matplotlib.figure.Figure at 0x2029102b7b8>"
      ]
     },
     "metadata": {},
     "output_type": "display_data"
    }
   ],
   "source": [
    "data2plot1.plot.scatter(x=0, y='size')\n",
    "plt.show()"
   ]
  },
  {
   "cell_type": "markdown",
   "metadata": {},
   "source": [
    "According to the plots below, most of the samples (3311/3710 = 90%) have size smaller than 1000, that is why the array for each channel of the samples will be fixed to 1000.\n",
    "\n",
    "The code below, (1) cut the arrays in tone that are bigger than 1k or pad the arrays till the size 1000, (2) reshape the array to 1 dimension.\n",
    "\n",
    "The pad1000_1DToneOriginalData has each sample's tone limited to size 6000."
   ]
  },
  {
   "cell_type": "code",
   "execution_count": 18,
   "metadata": {
    "collapsed": true
   },
   "outputs": [],
   "source": [
    "def paddingDescriptions(description,maxSize):\n",
    "    '''\n",
    "    Pads the descriptions into size maxSize and makes it 1D for each sample\n",
    "    '''\n",
    "    paddedData = []\n",
    "    for d in description:\n",
    "        if(len(d[0])>maxSize):\n",
    "            d=d[:,:maxSize]\n",
    "            d = np.reshape(d,[-1])\n",
    "        else:\n",
    "            newd=[]\n",
    "            j=0\n",
    "            for i in d:\n",
    "                i = np.pad(i,(0,maxSize-len(i)), 'constant')\n",
    "                newd.append(i)\n",
    "            d = np.reshape(newd,[-1])\n",
    "        paddedData.append(d)\n",
    "    return paddedData\n",
    "\n",
    "def plotSizeDistribution2ndD(description):\n",
    "    '''\n",
    "    Check Second dimensions' size distributions\n",
    "    '''\n",
    "    sizes=[len(i[0]) for i in description]\n",
    "    sizes = pd.DataFrame(sizes,columns=['size'])\n",
    "    sizes.plot.hist(bins=20)\n",
    "    plt.show()"
   ]
  },
  {
   "cell_type": "code",
   "execution_count": 100,
   "metadata": {
    "collapsed": true
   },
   "outputs": [],
   "source": [
    "tone = paddingDescriptions(tone,1000)"
   ]
  },
  {
   "cell_type": "markdown",
   "metadata": {},
   "source": [
    "<b>Describing data in function of spectral centroid.</b>\n",
    "\n",
    "https://librosa.github.io/librosa/generated/librosa.feature.spectral_centroid.html#librosa.feature.spectral_centroid\n",
    "\n",
    "Function: librosa.feature.spectral_centroid"
   ]
  },
  {
   "cell_type": "code",
   "execution_count": 25,
   "metadata": {},
   "outputs": [],
   "source": [
    "specCentroid = list(map(lambda x: librosa.feature.spectral_centroid(y=x, sr=44100), originalData))"
   ]
  },
  {
   "cell_type": "code",
   "execution_count": 27,
   "metadata": {},
   "outputs": [
    {
     "name": "stdout",
     "output_type": "stream",
     "text": [
      "1\n"
     ]
    },
    {
     "data": {
      "image/png": "[encoded data removed]",
      "text/plain": [
       "<matplotlib.figure.Figure at 0x25b110f14e0>"
      ]
     },
     "metadata": {},
     "output_type": "display_data"
    }
   ],
   "source": [
    "#Check Second dimensions' size distributions\n",
    "print(len(specCentroid[0]))\n",
    "plotSizeDistribution2ndD(specCentroid)"
   ]
  },
  {
   "cell_type": "code",
   "execution_count": 29,
   "metadata": {},
   "outputs": [],
   "source": [
    "specCentroid = paddingDescriptions(specCentroid,1000)"
   ]
  },
  {
   "cell_type": "markdown",
   "metadata": {},
   "source": [
    "<b>Describing data in function of spectral bandwidth.</b>\n",
    "\n",
    "https://librosa.github.io/librosa/generated/librosa.feature.spectral_bandwidth.html#librosa.feature.spectral_bandwidth"
   ]
  },
  {
   "cell_type": "code",
   "execution_count": 22,
   "metadata": {
    "collapsed": true
   },
   "outputs": [],
   "source": [
    "specBandwidth = list(map(lambda x: librosa.feature.spectral_bandwidth(y=x, sr=44100), originalData))"
   ]
  },
  {
   "cell_type": "code",
   "execution_count": 30,
   "metadata": {},
   "outputs": [
    {
     "name": "stdout",
     "output_type": "stream",
     "text": [
      "1\n"
     ]
    },
    {
     "data": {
      "image/png": "[encoded data removed]",
      "text/plain": [
       "<matplotlib.figure.Figure at 0x25b23486e10>"
      ]
     },
     "metadata": {},
     "output_type": "display_data"
    }
   ],
   "source": [
    "#Check Second dimensions' size distributions\n",
    "print(len(specBandwidth[0]))\n",
    "plotSizeDistribution2ndD(specBandwidth)"
   ]
  },
  {
   "cell_type": "code",
   "execution_count": 31,
   "metadata": {
    "collapsed": true
   },
   "outputs": [],
   "source": [
    "specBandwidth = paddingDescriptions(specBandwidth,1000)"
   ]
  },
  {
   "cell_type": "markdown",
   "metadata": {},
   "source": [
    "<b>Describing data in function of Mel-frequency cepstral coefficients (MFCCs).</b>\n",
    "\n",
    "https://librosa.github.io/librosa/generated/librosa.feature.mfcc.html#librosa.feature.mfcc"
   ]
  },
  {
   "cell_type": "code",
   "execution_count": 33,
   "metadata": {
    "collapsed": true
   },
   "outputs": [],
   "source": [
    "mfcc = list(map(lambda x: librosa.feature.mfcc(y=x, sr=44100), originalData))\n",
    "#DImensions 20x (number related to the size)"
   ]
  },
  {
   "cell_type": "code",
   "execution_count": 34,
   "metadata": {},
   "outputs": [
    {
     "name": "stdout",
     "output_type": "stream",
     "text": [
      "20\n"
     ]
    },
    {
     "data": {
      "image/png": "[encoded data removed]",
      "text/plain": [
       "<matplotlib.figure.Figure at 0x25b110f1e80>"
      ]
     },
     "metadata": {},
     "output_type": "display_data"
    }
   ],
   "source": [
    "#Check Second dimensions' size distributions\n",
    "print(len(mfcc[0]))\n",
    "plotSizeDistribution2ndD(mfcc)"
   ]
  },
  {
   "cell_type": "code",
   "execution_count": 35,
   "metadata": {},
   "outputs": [],
   "source": [
    "mfcc = paddingDescriptions(mfcc,1000)"
   ]
  },
  {
   "cell_type": "markdown",
   "metadata": {},
   "source": [
    "<b>MLP and Random Forest classifiers</b>\n",
    "\n",
    "First results: Creating a standard MLP from scikit-learn, training and testing the approach"
   ]
  },
  {
   "cell_type": "code",
   "execution_count": 36,
   "metadata": {
    "collapsed": true
   },
   "outputs": [],
   "source": [
    "from sklearn.neural_network import MLPClassifier\n",
    "from sklearn.ensemble import RandomForestClassifier\n",
    "from sklearn.model_selection import cross_val_score\n",
    "\n",
    "clfMLP = MLPClassifier(\n",
    "    hidden_layer_sizes = (2560,1024,256),\n",
    "    #The ith element represents the number of neurons in the ith hidden layer.\n",
    "    activation = 'relu',\n",
    "    #‘relu’, the rectified linear unit function, returns f(x) = max(0, x)\n",
    "    solver = 'adam',\n",
    "    #Optimizer. ‘adam’ refers to a stochastic gradient-based optimizer. The default solver ‘adam’ works pretty well on relatively large datasets (with thousands of training samples or more) in terms of both training time and validation score.\n",
    "    #I need to use stochastic optimizer because I have too many samples (over 45 millions) and would be impraticable to have to execute all of them to then update the weights.\n",
    "    #alpha = \n",
    "    #Default 0.0001. L2 penalty (regularization term) parameter.\n",
    "    batch_size = 50,\n",
    "    #Size of minibatches for stochastic optimizers. When set to “auto”, batch_size=min(200, n_samples)\n",
    "    learning_rate = 'invscaling',\n",
    "    #Learning rate schedule for weight updates.\n",
    "\t#‘constant’ is a constant learning rate given by ‘learning_rate_init’.\n",
    "\t#‘invscaling’ gradually decreases the learning rate learning_rate_ at each time step ‘t’ using an inverse scaling exponent of ‘power_t’. effective_learning_rate = learning_rate_init / pow(t, power_t)\n",
    "\t#‘adaptive’ keeps the learning rate constant to ‘learning_rate_init’ as long as training loss keeps decreasing. Each time two consecutive epochs fail to decrease training loss by at least tol, or fail to increase validation score by at least tol if ‘early_stopping’ is on, the current learning rate is divided by 5\n",
    "    learning_rate_init =0.1,\n",
    "    #Default 0.001. The initial learning rate used. It controls the step-size in updating the weights. Only used when solver=’sgd’ or ‘adam’.\n",
    "    #We attribute value to this using a grid search over values spaced approximately by factors of 3, i.e. {0,3; 0,1; 0,03; ... ; 0,0001}.\n",
    "    #max_iter = 2,\n",
    "    #Default 200. Maximum number of iterations. The solver iterates until convergence (determined by ‘tol’) or this number of iterations. For stochastic solvers (‘sgd’, ‘adam’), note that this determines the number of epochs (how many times each data point will be used), not the number of gradient steps.\n",
    "    #shuffle : bool, optional, default True\n",
    "    #Whether to shuffle samples in each iteration. Only used when solver=’sgd’ or ‘adam’.\n",
    "    #random_state =\n",
    "    #Default None. If int, random_state is the seed used by the random number generator; If RandomState instance, random_state is the random number generator; If None, the random number generator is the RandomState instance used by np.random.\n",
    "    tol = 1e-6,\n",
    "    #Tolerance for the optimization. When the loss or score is not improving by at least tol for two consecutive iterations, unless learning_rate is set to ‘adaptive’, convergence is considered to be reached and training stops.\n",
    "    #It was chosen based on the percentage that 1 sample wrong represents in the entire set of almost 46 million of samples: 1e-6\n",
    "    verbose = True,\n",
    "    #Whether to print progress messages to stdout.\n",
    "    #early_stopping = True,\n",
    "    #Whether to use early stopping to terminate training when validation score is not improving. If set to true, it will automatically set aside 10% of training data as validation and terminate training when validation score is not improving by at least tol for two consecutive epochs. Only effective when solver=’sgd’ or ‘adam’\n",
    "    #validation_fraction =\n",
    "    #Default 0.1. The proportion of training data to set aside as validation set for early stopping. Must be between 0 and 1. Only used if early_stopping is True\n",
    "    #beta_1 =\n",
    "    #Default 0.9. Exponential decay rate for estimates of first moment vector in adam, should be in [0, 1). Only used when solver=’adam’\n",
    "    #beta_2 =\n",
    "    #Default 0.999. Exponential decay rate for estimates of second moment vector in adam, should be in [0, 1). Only used when solver=’adam’\n",
    "    #epsilon =\n",
    "    #Default 1e-8. Value for numerical stability in adam. Only used when solver=’adam’\n",
    "    )\n",
    "\n",
    "clfRF = RandomForestClassifier(n_estimators = 1000, n_jobs=-1)\n",
    "\n",
    "def crossValidation(features,lables,clf=['MLP','RF'],cv=5):\n",
    "    \n",
    "    if('MLP' in clf):\n",
    "        print('Scores for Scikit-Learn MLP:')\n",
    "        scores = cross_val_score(clfMLP, features,lables,cv=cv,scoring='accuracy')\n",
    "        resultsMLP = [scores,scores.mean(),scores.std()]\n",
    "        print(str(resultsMLP))\n",
    "    \n",
    "    if('RF' in clf):\n",
    "        print('Scores for RF:')\n",
    "        scoresRF = cross_val_score(clfRF, features, lables,cv=cv,scoring='accuracy')\n",
    "        resultsRF = [scoresRF,scoresRF.mean(),scoresRF.std()]\n",
    "        print(str(resultsRF))"
   ]
  },
  {
   "cell_type": "markdown",
   "metadata": {},
   "source": [
    "# Training and testing classifiers\n",
    "\n",
    "Using tone"
   ]
  },
  {
   "cell_type": "code",
   "execution_count": null,
   "metadata": {
    "collapsed": true
   },
   "outputs": [],
   "source": [
    "#tone\n",
    "crossValidation(tone,target,clf=['RF','MLP'],cv=3)"
   ]
  },
  {
   "cell_type": "markdown",
   "metadata": {},
   "source": [
    "Using spectral centroid"
   ]
  },
  {
   "cell_type": "code",
   "execution_count": 37,
   "metadata": {},
   "outputs": [
    {
     "name": "stdout",
     "output_type": "stream",
     "text": [
      "Scores for RF:\n",
      "[array([0.43210863, 0.43724696, 0.4480785 ]), 0.4391446950878993, 0.006656336335106039]\n"
     ]
    }
   ],
   "source": [
    "#specCentroid\n",
    "crossValidation(specCentroid,target,clf=['RF'],cv=3)"
   ]
  },
  {
   "cell_type": "code",
   "execution_count": 38,
   "metadata": {},
   "outputs": [
    {
     "name": "stdout",
     "output_type": "stream",
     "text": [
      "Scores for Scikit-Learn MLP:\n",
      "Iteration 1, loss = 9.80046027\n",
      "Iteration 2, loss = 5.36556740\n",
      "Iteration 3, loss = 5.36599072\n",
      "Iteration 4, loss = 5.36969897\n",
      "Iteration 5, loss = 5.36429134\n",
      "Iteration 6, loss = 5.36191879\n",
      "Iteration 7, loss = 5.36435139\n",
      "Iteration 8, loss = 5.36110971\n",
      "Iteration 9, loss = 5.36614146\n",
      "Iteration 10, loss = 5.36051168\n",
      "Iteration 11, loss = 5.36269915\n",
      "Iteration 12, loss = 5.35624316\n",
      "Iteration 13, loss = 5.35460860\n",
      "Iteration 14, loss = 5.35866398\n",
      "Iteration 15, loss = 5.35737929\n",
      "Iteration 16, loss = 5.36023224\n",
      "Training loss did not improve more than tol=0.000001 for two consecutive epochs. Stopping.\n",
      "Iteration 1, loss = 9.02550695\n",
      "Iteration 2, loss = 5.31825816\n",
      "Iteration 3, loss = 5.31757816\n",
      "Iteration 4, loss = 5.32152286\n",
      "Iteration 5, loss = 5.32010318\n",
      "Iteration 6, loss = 5.31851307\n",
      "Training loss did not improve more than tol=0.000001 for two consecutive epochs. Stopping.\n",
      "Iteration 1, loss = 10.94804268\n",
      "Iteration 2, loss = 5.29834056\n",
      "Iteration 3, loss = 5.30229502\n",
      "Iteration 4, loss = 5.29932938\n",
      "Iteration 5, loss = 5.29957944\n",
      "Training loss did not improve more than tol=0.000001 for two consecutive epochs. Stopping.\n",
      "[array([0.0686901 , 0.06882591, 0.0678659 ]), 0.06846063676458795, 0.00042417933477714254]\n"
     ]
    }
   ],
   "source": [
    "crossValidation(specCentroid,target,clf=['MLP'],cv=3)"
   ]
  },
  {
   "cell_type": "markdown",
   "metadata": {},
   "source": [
    "Using spectral bandwidth"
   ]
  },
  {
   "cell_type": "code",
   "execution_count": 39,
   "metadata": {},
   "outputs": [
    {
     "name": "stdout",
     "output_type": "stream",
     "text": [
      "Scores for RF:\n",
      "[array([0.44888179, 0.43076923, 0.43254293]), 0.4373979823782462, 0.008152499127789991]\n"
     ]
    }
   ],
   "source": [
    "#specBandwidth\n",
    "crossValidation(specBandwidth,target,clf=['RF'],cv=3)"
   ]
  },
  {
   "cell_type": "code",
   "execution_count": 40,
   "metadata": {},
   "outputs": [
    {
     "name": "stdout",
     "output_type": "stream",
     "text": [
      "Scores for Scikit-Learn MLP:\n",
      "Iteration 1, loss = 8.88234519\n",
      "Iteration 2, loss = 5.28171357\n",
      "Iteration 3, loss = 5.27986220\n",
      "Iteration 4, loss = 5.27953517\n",
      "Iteration 5, loss = 5.28324024\n",
      "Iteration 6, loss = 5.27988099\n",
      "Iteration 7, loss = 5.27549742\n",
      "Iteration 8, loss = 5.28235962\n",
      "Iteration 9, loss = 5.27742317\n",
      "Iteration 10, loss = 5.27785558\n",
      "Training loss did not improve more than tol=0.000001 for two consecutive epochs. Stopping.\n",
      "Iteration 1, loss = 11.23641018\n",
      "Iteration 2, loss = 5.35755104\n",
      "Iteration 3, loss = 5.31655012\n",
      "Iteration 4, loss = 5.31003002\n",
      "Iteration 5, loss = 5.31548723\n",
      "Iteration 6, loss = 5.31289571\n",
      "Iteration 7, loss = 5.31461866\n",
      "Training loss did not improve more than tol=0.000001 for two consecutive epochs. Stopping.\n",
      "Iteration 1, loss = 8.94786029\n",
      "Iteration 2, loss = 5.27804370\n",
      "Iteration 3, loss = 5.28480104\n",
      "Iteration 4, loss = 5.28432074\n",
      "Iteration 5, loss = 5.28392685\n",
      "Training loss did not improve more than tol=0.000001 for two consecutive epochs. Stopping.\n",
      "[array([0.0686901 , 0.06720648, 0.06950123]), 0.06846593335722372, 0.0009501419485123065]\n"
     ]
    }
   ],
   "source": [
    "crossValidation(specBandwidth,target,clf=['MLP'],cv=3)"
   ]
  },
  {
   "cell_type": "markdown",
   "metadata": {},
   "source": [
    "Using mfcc"
   ]
  },
  {
   "cell_type": "code",
   "execution_count": null,
   "metadata": {},
   "outputs": [
    {
     "name": "stdout",
     "output_type": "stream",
     "text": [
      "Scores for Scikit-Learn MLP:\n",
      "Iteration 1, loss = 20.02649818\n",
      "Iteration 2, loss = 19.61420746\n"
     ]
    }
   ],
   "source": [
    "#mfcc\n",
    "crossValidation(mfcc,target,clf=['RF','MLP'],cv=3)"
   ]
  },
  {
   "cell_type": "markdown",
   "metadata": {},
   "source": [
    "<b>Next steps:</b>\n",
    "\n",
    "<b>Reevaluating the data type and classifier choices</b>"
   ]
  },
  {
   "cell_type": "code",
   "execution_count": null,
   "metadata": {
    "collapsed": true
   },
   "outputs": [],
   "source": []
  }
 ],
 "metadata": {
  "kernelspec": {
   "display_name": "Python 3",
   "language": "python",
   "name": "python3"
  },
  "language_info": {
   "codemirror_mode": {
    "name": "ipython",
    "version": 3
   },
   "file_extension": ".py",
   "mimetype": "text/x-python",
   "name": "python",
   "nbconvert_exporter": "python",
   "pygments_lexer": "ipython3",
   "version": "3.6.1"
  }
 },
 "nbformat": 4,
 "nbformat_minor": 2
}
