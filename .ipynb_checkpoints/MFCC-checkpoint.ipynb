{
 "cells": [
  {
   "cell_type": "code",
   "execution_count": 4,
   "metadata": {
    "collapsed": true
   },
   "outputs": [],
   "source": [
    "\n",
    "#path to where the folder \"database\" is\n",
    "basepath = \"C:/Users/miria/OneDrive - Dalhousie University/PhD.Dal/Courses/0CSCI6908-DeepLearning/Project/\"\n",
    "\n",
    "import numpy as np\n",
    "import pandas as pd\n",
    "import librosa\n",
    "'''\n",
    "Piece of code copied from https://www.kaggle.com/fizzbuzz/beginner-s-guide-to-audio-data\n",
    "'''\n",
    "import IPython.display as ipd  # To play sound in the notebook\n",
    "np.random.seed(1001)\n",
    "import os\n",
    "import shutil\n",
    "import seaborn as sns\n",
    "from scipy.io import wavfile\n",
    "\n",
    "dataset = pd.read_csv(basepath+\"database/train.csv\",header=0,names=['fname','label','verified'])\n",
    "\n",
    "checkedDataset = dataset.loc[dataset.verified == 1,[\"fname\",\"label\"]]\n",
    "\n",
    "basepathWAVfiles = basepath+\"database/audio_train/\"\n",
    "\n",
    "originalData = []\n",
    "target = []\n",
    "for sample in checkedDataset.values:\n",
    "    fname,label = sample\n",
    "    try:\n",
    "        _,data = wavfile.read(basepathWAVfiles+fname)\n",
    "        originalData.append(data.astype(np.float))\n",
    "        target.append(label)\n",
    "    except:\n",
    "        print(\"File \"+fname+' do not exist!') \n",
    "mfcc = list(map(lambda x: librosa.feature.mfcc(y=x, sr=44100), originalData))\n",
    "\n",
    "def paddingDescriptions(description,maxSize):\n",
    "    '''\n",
    "    Pads the descriptions into size maxSize and makes it 1D for each sample\n",
    "    '''\n",
    "    paddedData = []\n",
    "    for d in description:\n",
    "        if(len(d[0])>maxSize):\n",
    "            d=d[:,:maxSize]\n",
    "            d = np.reshape(d,[-1])\n",
    "        else:\n",
    "            newd=[]\n",
    "            j=0\n",
    "            for i in d:\n",
    "                i = np.pad(i,(0,maxSize-len(i)), 'constant')\n",
    "                newd.append(i)\n",
    "            d = np.reshape(np.array(newd),[-1])\n",
    "        d = d.astype(np.float64)\n",
    "        paddedData.append(d)\n",
    "    return paddedData\n",
    "\n",
    "mfccPAD2600 = paddingDescriptions(mfcc,2600)"
   ]
  },
  {
   "cell_type": "code",
   "execution_count": null,
   "metadata": {
    "collapsed": true
   },
   "outputs": [],
   "source": []
  }
 ],
 "metadata": {
  "kernelspec": {
   "display_name": "Python 3",
   "language": "python",
   "name": "python3"
  },
  "language_info": {
   "codemirror_mode": {
    "name": "ipython",
    "version": 3
   },
   "file_extension": ".py",
   "mimetype": "text/x-python",
   "name": "python",
   "nbconvert_exporter": "python",
   "pygments_lexer": "ipython3",
   "version": "3.6.6"
  }
 },
 "nbformat": 4,
 "nbformat_minor": 2
}
