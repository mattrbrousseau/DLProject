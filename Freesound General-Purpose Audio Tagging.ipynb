{
 "cells": [
  {
   "cell_type": "markdown",
   "metadata": {},
   "source": [
    "**Train set**\n",
    "\n",
    "The train set is meant to be for system development and includes **~9.5k samples unequally distributed among 41 categories**. The **minimum number of audio samples per category in the train set is 94, and the maximum 300**. The duration of the audio **samples ranges from 300ms to 30s** due to the diversity of the sound categories and the preferences of Freesound users when recording sounds.\n",
    "\n",
    "The train set is composed of **~3.7k manually-verified annotations and ~5.8k non-verified annotations**. **The quality of the non-verified annotations has been roughly estimated to be at least 65-70% in each sound category**. A flag for each annotation is provided which indicates whether or not that annotation has been manually verified. Participants can use this information during the development of their systems"
   ]
  },
  {
   "cell_type": "code",
   "execution_count": null,
   "metadata": {
    "collapsed": true
   },
   "outputs": [],
   "source": []
  }
 ],
 "metadata": {
  "kernelspec": {
   "display_name": "Python 3",
   "language": "python",
   "name": "python3"
  },
  "language_info": {
   "codemirror_mode": {
    "name": "ipython",
    "version": 3
   },
   "file_extension": ".py",
   "mimetype": "text/x-python",
   "name": "python",
   "nbconvert_exporter": "python",
   "pygments_lexer": "ipython3",
   "version": "3.6.1"
  }
 },
 "nbformat": 4,
 "nbformat_minor": 2
}
