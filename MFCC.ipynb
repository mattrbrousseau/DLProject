{
 "cells": [
  {
   "cell_type": "code",
   "execution_count": null,
   "metadata": {
    "collapsed": true
   },
   "outputs": [],
   "source": [
    "\n",
    "#path to where the folder \"database\" is\n",
    "basepath = \n",
    "\n",
    "import numpy as np\n",
    "import matplotlib.pyplot as plt\n",
    "import pandas as pd\n",
    "import constants\n",
    "%matplotlib inline\n",
    "\n",
    "'''\n",
    "Piece of code copied from https://www.kaggle.com/fizzbuzz/beginner-s-guide-to-audio-data\n",
    "'''\n",
    "import IPython.display as ipd  # To play sound in the notebook\n",
    "np.random.seed(1001)\n",
    "import os\n",
    "import shutil\n",
    "import IPython\n",
    "import matplotlib\n",
    "import seaborn as sns\n",
    "from scipy.io import wavfile\n",
    "\n",
    "plt.style.use(['seaborn-white','ggplot'])\n",
    "\n",
    "dataset = pd.read_csv(constants.basepath+\"database/train.csv\",header=0,names=['fname','label','verified'])\n",
    "\n",
    "checkedDataset = dataset.loc[dataset.verified == 1,[\"fname\",\"label\"]]\n",
    "\n",
    "basepathWAVfiles = basepath+\"database/audio_train/\"\n",
    "\n",
    "originalData = []\n",
    "target = []\n",
    "for sample in checkedDataset.values:\n",
    "    fname,label = sample\n",
    "    try:\n",
    "        _,data = wavfile.read(basepathWAVfiles+fname)\n",
    "        originalData.append(data.astype(np.float))\n",
    "        target.append(label)\n",
    "    except:\n",
    "        print(\"File \"+fname+' do not exist!') \n",
    "mfcc = list(map(lambda x: librosa.feature.mfcc(y=x, sr=44100), originalData))"
   ]
  }
 ],
 "metadata": {
  "kernelspec": {
   "display_name": "Python 3",
   "language": "python",
   "name": "python3"
  },
  "language_info": {
   "codemirror_mode": {
    "name": "ipython",
    "version": 3
   },
   "file_extension": ".py",
   "mimetype": "text/x-python",
   "name": "python",
   "nbconvert_exporter": "python",
   "pygments_lexer": "ipython3",
   "version": "3.6.6"
  }
 },
 "nbformat": 4,
 "nbformat_minor": 2
}
